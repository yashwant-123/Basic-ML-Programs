{
 "cells": [
  {
   "cell_type": "code",
   "execution_count": null,
   "id": "078c24ef",
   "metadata": {},
   "outputs": [
    {
     "ename": "",
     "evalue": "",
     "output_type": "error",
     "traceback": [
      "\u001b[1;31mRunning cells with 'c:\\Users\\HemanthKumar\\Ysoft\\cpp\\mingw64\\bin\\python.exe' requires the ipykernel package.\n",
      "\u001b[1;31mRun the following command to install 'ipykernel' into the Python environment. \n",
      "\u001b[1;31mCommand: 'c:/Users/HemanthKumar/Ysoft/cpp/mingw64/bin/python.exe -m pip install ipykernel -U --user --force-reinstall'"
     ]
    }
   ],
   "source": [
    "import sklearn\n",
    "import seaborn as sns\n",
    "from sklearn.svm import SVC\n",
    "from sklearn.metrics import confusion_matrix\n",
    "from sklearn import datasets\n",
    "import matplotlib.pyplot as plt\n",
    "import pandas as pd\n",
    "from sklearn.model_selection import train_test_split\n",
    "import numpy as np\n",
    "from sklearn.neighbors import KNeighborsClassifier\n",
    "from sklearn.model_selection import cross_val_score\n",
    "from sklearn.metrics import accuracy_score\n",
    "from sklearn.metrics import classification_report\n",
    "from sklearn.datasets import load_wine\n",
    "from sklearn.model_selection import train_test_split\n",
    "from sklearn.neighbors import KNeighborsClassifier\n",
    "from sklearn.metrics import accuracy_score\n",
    "from sklearn import svm\n",
    "from sklearn.cluster import KMeans\n",
    "from sklearn.preprocessing import StandardScaler\n",
    "from scipy.stats import mode\n",
    "r=dir(datasets)\n",
    "print(r)\n",
    "iris=datasets.load_wine()\n",
    "x=pd.DataFrame(iris.data)\n",
    "print(iris.feature_names)\n",
    "x.columns=['alcohol', 'malic_acid', 'ash', 'alcalinity_of_ash', 'magnesium', 'total_phenols', 'flavanoids', 'nonflavanoid_phenols', 'proanthocyanins', 'color_intensity', 'hue', 'od280/od315_of_diluted_wines', 'proline']\n",
    "y=pd.DataFrame(iris.target)\n",
    "y.columns=['targets']\n",
    "print((y.columns.ndim))\n",
    "scale = StandardScaler()\n",
    "scaled_x = scale.fit_transform(x)\n",
    "xs=pd.DataFrame(scaled_x,columns=x.columns)\n",
    "\n",
    "from sklearn.mixture import GaussianMixture\n",
    "gnm=GaussianMixture(n_components=3)\n",
    "gnm.fit(xs)\n",
    "gnm_y=gnm.predict(xs)\n",
    "clusters=gnm.fit_predict(x)\n",
    "labels=np.zeros_like(clusters)\n",
    "\n",
    "for i in range(3):\n",
    "    cat=(gnm_y==i)\n",
    "    labels[cat]=mode(iris.target[cat])[0]\n",
    "\n",
    "acc=accuracy_score(iris.target,labels)\n",
    "print('Accuracy using GNM = ',acc)\n",
    "\n",
    "plt.figure(figsize=(25,25))\n",
    "colormap=np.array(['red','green','blue'])\n",
    "plt.subplot(2,2,3)\n",
    "plt.scatter(x.alcohol,x.magnesium,c= colormap[gnm_y],s=30)\n",
    "plt.subplots_adjust(hspace=0.4,wspace=0.4)\n",
    "plt.title('Red clusters')\n",
    "plt.xlabel('alcohol')\n",
    "plt.ylabel('magnesium')\n"
   ]
  },
  {
   "cell_type": "code",
   "execution_count": null,
   "id": "625a73cf",
   "metadata": {},
   "outputs": [
    {
     "ename": "",
     "evalue": "",
     "output_type": "error",
     "traceback": [
      "\u001b[1;31mRunning cells with 'c:\\Users\\HemanthKumar\\Ysoft\\cpp\\mingw64\\bin\\python.exe' requires the ipykernel package.\n",
      "\u001b[1;31mRun the following command to install 'ipykernel' into the Python environment. \n",
      "\u001b[1;31mCommand: 'c:/Users/HemanthKumar/Ysoft/cpp/mingw64/bin/python.exe -m pip install ipykernel -U --user --force-reinstall'"
     ]
    }
   ],
   "source": []
  }
 ],
 "metadata": {
  "kernelspec": {
   "display_name": "Python 3",
   "language": "python",
   "name": "python3"
  },
  "language_info": {
   "codemirror_mode": {
    "name": "ipython",
    "version": 3
   },
   "file_extension": ".py",
   "mimetype": "text/x-python",
   "name": "python",
   "nbconvert_exporter": "python",
   "pygments_lexer": "ipython3",
   "version": "3.10.8"
  },
  "vscode": {
   "interpreter": {
    "hash": "ebe8e632cef66807d1b3637bd9c853e3a8cd7203e43d0804590ecced9deed58a"
   }
  }
 },
 "nbformat": 4,
 "nbformat_minor": 5
}
