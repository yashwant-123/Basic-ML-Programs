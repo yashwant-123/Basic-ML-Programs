{
 "cells": [
  {
   "cell_type": "code",
   "execution_count": 83,
   "id": "eae343e3",
   "metadata": {},
   "outputs": [
    {
     "name": "stdout",
     "output_type": "stream",
     "text": [
      "['__all__', '__builtins__', '__cached__', '__doc__', '__file__', '__loader__', '__name__', '__package__', '__path__', '__spec__', '_base', '_california_housing', '_covtype', '_kddcup99', '_lfw', '_olivetti_faces', '_openml', '_rcv1', '_samples_generator', '_species_distributions', '_svmlight_format_fast', '_svmlight_format_io', '_twenty_newsgroups', 'clear_data_home', 'dump_svmlight_file', 'fetch_20newsgroups', 'fetch_20newsgroups_vectorized', 'fetch_california_housing', 'fetch_covtype', 'fetch_kddcup99', 'fetch_lfw_pairs', 'fetch_lfw_people', 'fetch_olivetti_faces', 'fetch_openml', 'fetch_rcv1', 'fetch_species_distributions', 'get_data_home', 'load_boston', 'load_breast_cancer', 'load_diabetes', 'load_digits', 'load_files', 'load_iris', 'load_linnerud', 'load_sample_image', 'load_sample_images', 'load_svmlight_file', 'load_svmlight_files', 'load_wine', 'make_biclusters', 'make_blobs', 'make_checkerboard', 'make_circles', 'make_classification', 'make_friedman1', 'make_friedman2', 'make_friedman3', 'make_gaussian_quantiles', 'make_hastie_10_2', 'make_low_rank_matrix', 'make_moons', 'make_multilabel_classification', 'make_regression', 'make_s_curve', 'make_sparse_coded_signal', 'make_sparse_spd_matrix', 'make_sparse_uncorrelated', 'make_spd_matrix', 'make_swiss_roll']\n",
      "features  ['sepal length (cm)', 'sepal width (cm)', 'petal length (cm)', 'petal width (cm)']\n",
      "[2, 4, 6, 8, 10, 12, 14, 16, 18, 20, 22, 24, 26, 28, 30, 32, 34, 36, 38, 40, 42, 44, 46, 48]\n",
      "The accuracy for optimal k=8 using brute is 0.9736842105263158\n",
      "classification report using brute force\n",
      "              precision    recall  f1-score   support\n",
      "\n",
      "           0       1.00      1.00      1.00        11\n",
      "           1       0.93      1.00      0.96        13\n",
      "           2       1.00      0.93      0.96        14\n",
      "\n",
      "    accuracy                           0.97        38\n",
      "   macro avg       0.98      0.98      0.98        38\n",
      "weighted avg       0.98      0.97      0.97        38\n",
      "\n"
     ]
    }
   ],
   "source": [
    "import sklearn\n",
    "import seaborn as sns\n",
    "from sklearn.svm import SVC\n",
    "from sklearn.metrics import confusion_matrix\n",
    "from sklearn import datasets\n",
    "import matplotlib.pyplot as plt\n",
    "import pandas as pd\n",
    "from sklearn.model_selection import train_test_split\n",
    "import numpy as np\n",
    "from sklearn.neighbors import KNeighborsClassifier\n",
    "from sklearn.model_selection import cross_val_score\n",
    "from sklearn.metrics import accuracy_score\n",
    "from sklearn.metrics import classification_report\n",
    "r=dir(datasets)\n",
    "print(r)\n",
    "iris = datasets.load_iris()\n",
    "print(\"features \",iris.feature_names)\n",
    "x_train,x_test,y_train,y_test=train_test_split(iris.data,iris.target,test_size=0.25)\n",
    "\n",
    "cv_scores=[]\n",
    "neighbors=list(np.arange(2,50,2))\n",
    "print(neighbors)\n",
    "for n in neighbors:\n",
    "    knn=KNeighborsClassifier(n_neighbors=n,algorithm='brute')\n",
    "    cross_val=cross_val_score(knn,x_train,y_train,cv=5,scoring='accuracy')\n",
    "    cv_scores.append(cross_val.mean())\n",
    "error=[1-x for x in cv_scores]\n",
    "optimal_n=neighbors[error.index(min(error))]\n",
    "knn_optimal=KNeighborsClassifier(n_neighbors=optimal_n,algorithm='brute')\n",
    "knn_optimal.fit(x_train,y_train)\n",
    "pred=knn_optimal.predict(x_test)\n",
    "acc=accuracy_score(y_test,pred)\n",
    "print(\"The accuracy for optimal k={} using brute is {}\".format(optimal_n,acc))\n",
    "print(\"classification report using brute force\")\n",
    "print(classification_report(y_test,pred))"
   ]
  },
  {
   "cell_type": "code",
   "execution_count": 80,
   "id": "84f060f7",
   "metadata": {},
   "outputs": [
    {
     "name": "stdout",
     "output_type": "stream",
     "text": [
      "[[13  0  0]\n",
      " [ 0 14  0]\n",
      " [ 0  0 11]]\n"
     ]
    },
    {
     "data": {
      "image/png": "[encoded data removed]",
      "text/plain": [
       "<Figure size 432x288 with 2 Axes>"
      ]
     },
     "metadata": {
      "needs_background": "light"
     },
     "output_type": "display_data"
    }
   ],
   "source": [
    "cm=confusion_matrix(y_test,pred)\n",
    "print(cm)\n",
    "cn_df=pd.DataFrame(cm,\n",
    "                  index=['1','2','3'],\n",
    "                  columns=['4','5','6'])\n",
    "sns.heatmap(cm,annot=True)\n",
    "plt.title('Accuracy using brute{}'.format(accuracy_score(y_test,pred)))\n",
    "plt.ylabel('Actual label')\n",
    "plt.xlabel('Predicted label')\n",
    "\n",
    "plt.show()"
   ]
  },
  {
   "cell_type": "code",
   "execution_count": 84,
   "id": "19f16b8a",
   "metadata": {},
   "outputs": [
    {
     "name": "stdout",
     "output_type": "stream",
     "text": [
      "100.0\n"
     ]
    },
    {
     "data": {
      "image/png": "[encoded data removed]",
      "text/plain": [
       "<Figure size 432x288 with 2 Axes>"
      ]
     },
     "metadata": {
      "needs_background": "light"
     },
     "output_type": "display_data"
    }
   ],
   "source": [
    "from sklearn.svm import SVC\n",
    "s1=SVC(kernel='rbf').fit(x_train,y_train)\n",
    "s1_pred=s1.predict(x_test)\n",
    "acc=accuracy_score(y_test,s1_pred)*100\n",
    "print(acc)\n",
    "cn=confusion_matrix(y_test,s1_pred)\n",
    "cn_df=pd.DataFrame(cn,\n",
    "                  index=['1','1','1'],\n",
    "                  columns=['1','1','1'])\n",
    "sns.heatmap(cn_df,annot=True)\n",
    "plt.title('Accuracy using brute{}'.format(accuracy_score(y_test,s1_pred)))\n",
    "plt.ylabel('Actual label')\n",
    "plt.xlabel('Predicted label')\n",
    "\n",
    "plt.show()\n"
   ]
  },
  {
   "cell_type": "code",
   "execution_count": null,
   "id": "cdca6bb1",
   "metadata": {},
   "outputs": [],
   "source": []
  }
 ],
 "metadata": {
  "kernelspec": {
   "display_name": "Python 3",
   "language": "python",
   "name": "python3"
  },
  "language_info": {
   "codemirror_mode": {
    "name": "ipython",
    "version": 3
   },
   "file_extension": ".py",
   "mimetype": "text/x-python",
   "name": "python",
   "nbconvert_exporter": "python",
   "pygments_lexer": "ipython3",
   "version": "3.8.8"
  }
 },
 "nbformat": 4,
 "nbformat_minor": 5
}
