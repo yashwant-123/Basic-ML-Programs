{
 "cells": [
  {
   "cell_type": "code",
   "execution_count": 1,
   "id": "d1c820fc",
   "metadata": {},
   "outputs": [],
   "source": [
    "import numpy as np \n",
    "\n",
    "weights = np.around(np.random.uniform(size=6), decimals=2) \n",
    "biases = np.around(np.random.uniform(size=3), decimals=2) "
   ]
  },
  {
   "cell_type": "code",
   "execution_count": 2,
   "id": "6df0f63c",
   "metadata": {},
   "outputs": [
    {
     "name": "stdout",
     "output_type": "stream",
     "text": [
      "[0.16 0.49 0.24 0.01 0.68 0.8 ]\n",
      "[0.46 0.93 0.36]\n"
     ]
    }
   ],
   "source": [
    "print(weights)\n",
    "print(biases)"
   ]
  },
  {
   "cell_type": "code",
   "execution_count": 3,
   "id": "203de976",
   "metadata": {},
   "outputs": [],
   "source": [
    "x_1 = 0.5\n",
    "x_2 = 0.85"
   ]
  },
  {
   "cell_type": "code",
   "execution_count": 4,
   "id": "bb8ad785",
   "metadata": {},
   "outputs": [
    {
     "name": "stdout",
     "output_type": "stream",
     "text": [
      "The output of the network for x1 = 0.5 and x2 = 0.85 is 0.8093\n"
     ]
    }
   ],
   "source": [
    "z_11 = x_1 * weights[0] + x_2 * weights[1] + biases[0]\n",
    "z_12=x_1*weights[2]+x_2*weights[3]+biases[1]\n",
    "a_11 = 1.0 / (1.0 + np.exp(-z_11))\n",
    "a_12 = 1.0 / (1.0 + np.exp(-z_12))\n",
    "z_2=a_11*weights[4]+a_12*weights[5]+biases[2]\n",
    "a_2=1.0/(1.0+np.exp(-z_2))\n",
    "print('The output of the network for x1 = 0.5 and x2 = 0.85 is {}'.format(np.around(a_2, decimals=4)))"
   ]
  },
  {
   "cell_type": "code",
   "execution_count": null,
   "id": "86ae82af",
   "metadata": {},
   "outputs": [],
   "source": []
  }
 ],
 "metadata": {
  "kernelspec": {
   "display_name": "Python 3",
   "language": "python",
   "name": "python3"
  },
  "language_info": {
   "codemirror_mode": {
    "name": "ipython",
    "version": 3
   },
   "file_extension": ".py",
   "mimetype": "text/x-python",
   "name": "python",
   "nbconvert_exporter": "python",
   "pygments_lexer": "ipython3",
   "version": "3.8.8"
  }
 },
 "nbformat": 4,
 "nbformat_minor": 5
}
