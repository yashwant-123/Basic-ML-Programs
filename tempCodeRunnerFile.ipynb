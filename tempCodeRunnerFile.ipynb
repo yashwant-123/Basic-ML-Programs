import sklearn
import seaborn as sns
from sklearn.svm import SVC
from sklearn.metrics import confusion_matrix
from sklearn import datasets
import matplotlib.pyplot as plt
import pandas as pd
from sklearn.model_selection import train_test_split
import numpy as np
from sklearn.neighbors import KNeighborsClassifier
from sklearn.model_selection import cross_val_score
from sklearn.metrics import accuracy_score
from sklearn.metrics import classification_report
from sklearn.datasets import load_wine
from sklearn.model_selection import train_test_split
from sklearn.neighbors import KNeighborsClassifier
from sklearn.metrics import accuracy_score
from sklearn import svm
from sklearn.cluster import KMeans
from sklearn.preprocessing import StandardScaler
from scipy.stats import mode
r=dir(datasets)
print(r)
iris=datasets.load_wine()
x=pd.DataFrame(iris.data)
print(iris.feature_names)
x.columns=['alcohol', 'malic_acid', 'ash', 'alcalinity_of_ash', 'magnesium', 'total_phenols', 'flavanoids', 'nonflavanoid_phenols', 'proanthocyanins', 'color_intensity', 'hue', 'od280/od315_of_diluted_wines', 'proline']
y=pd.DataFrame(iris.target)
y.columns=['targets']
print((y.columns.ndim))
scale = StandardScaler()
scaled_x = scale.fit_transform(x)
xs=pd.DataFrame(scaled_x,columns=x.columns)

from sklearn.mixture import GaussianMixture
gnm=GaussianMixture(n_components=3)
gnm.fit(xs)
gnm_y=gnm.predict(xs)
clusters=gnm.fit_predict(x)
labels=np.zeros_like(clusters)

for i in range(3):
    cat=(gnm_y==i)
    labels[cat]=mode(iris.target[cat])[0]

acc=accuracy_score(iris.target,labels)
print('Accuracy using GNM = ',acc)

plt.figure(figsize=(25,25))
colormap=np.array(['red','green','blue'])
plt.subplot(2,2,3)
plt.scatter(x.alcohol,x.magnesium,c= colormap[gnm_y],s=30)
plt.subplots_adjust(hspace=0.4,wspace=0.4)